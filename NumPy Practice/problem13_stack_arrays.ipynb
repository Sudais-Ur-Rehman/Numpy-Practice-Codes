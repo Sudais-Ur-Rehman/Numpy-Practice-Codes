{
 "cells": [
  {
   "cell_type": "markdown",
   "id": "7d62e875",
   "metadata": {},
   "source": [
    "Stack two arrays vertically and horizontally."
   ]
  },
  {
   "cell_type": "code",
   "execution_count": 10,
   "id": "fd871e21",
   "metadata": {},
   "outputs": [
    {
     "name": "stdout",
     "output_type": "stream",
     "text": [
      "Vertically Stacked Array:\n",
      " [[1 2 3]\n",
      " [4 5 6]]\n",
      "Horizontally Stacked Array:\n",
      " [[1 4]\n",
      " [2 5]\n",
      " [3 6]]\n",
      "None\n"
     ]
    }
   ],
   "source": [
    "import numpy as np\n",
    "\n",
    "a = np.array([1,2,3])\n",
    "b = np.array([4,5,6])\n",
    "\n",
    "c = np.stack((a,b), axis=0)\n",
    "d = np.stack((a,b), axis=1)\n",
    "print(\"Vertically Stacked Array:\\n\", c)\n",
    "print(print(\"Horizontally Stacked Array:\\n\", d))\n"
   ]
  }
 ],
 "metadata": {
  "kernelspec": {
   "display_name": "Python 3",
   "language": "python",
   "name": "python3"
  },
  "language_info": {
   "codemirror_mode": {
    "name": "ipython",
    "version": 3
   },
   "file_extension": ".py",
   "mimetype": "text/x-python",
   "name": "python",
   "nbconvert_exporter": "python",
   "pygments_lexer": "ipython3",
   "version": "3.13.3"
  }
 },
 "nbformat": 4,
 "nbformat_minor": 5
}
