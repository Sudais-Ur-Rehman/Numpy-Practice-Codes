{
 "cells": [
  {
   "cell_type": "markdown",
   "id": "ca57c59b",
   "metadata": {},
   "source": [
    "Find unique values in an array."
   ]
  },
  {
   "cell_type": "code",
   "execution_count": 4,
   "id": "05371286",
   "metadata": {},
   "outputs": [
    {
     "name": "stdout",
     "output_type": "stream",
     "text": [
      "[2 3 4 6 8 9]\n"
     ]
    }
   ],
   "source": [
    "import numpy as np\n",
    "\n",
    "arr = np.array([2, 3, 3, 4, 2, 6, 6, 8, 9, 9])\n",
    "unique_elem = np.unique(arr)\n",
    "print(unique_elem)"
   ]
  }
 ],
 "metadata": {
  "kernelspec": {
   "display_name": "Python 3",
   "language": "python",
   "name": "python3"
  },
  "language_info": {
   "codemirror_mode": {
    "name": "ipython",
    "version": 3
   },
   "file_extension": ".py",
   "mimetype": "text/x-python",
   "name": "python",
   "nbconvert_exporter": "python",
   "pygments_lexer": "ipython3",
   "version": "3.13.3"
  }
 },
 "nbformat": 4,
 "nbformat_minor": 5
}
