{
 "cells": [
  {
   "cell_type": "markdown",
   "id": "66ea759b",
   "metadata": {},
   "source": [
    "Compute the determinant of a 3x3 matrix."
   ]
  }
 ],
 "metadata": {
  "language_info": {
   "name": "python"
  }
 },
 "nbformat": 4,
 "nbformat_minor": 5
}
