{
 "cells": [
  {
   "cell_type": "markdown",
   "id": "a996625e",
   "metadata": {},
   "source": [
    "Implement a custom filter that keeps elements divisible by both 3 and 5."
   ]
  },
  {
   "cell_type": "code",
   "execution_count": 9,
   "id": "e1d29074",
   "metadata": {},
   "outputs": [
    {
     "name": "stdout",
     "output_type": "stream",
     "text": [
      "[ 0 15 30 45 60 75 90]\n"
     ]
    }
   ],
   "source": [
    "import numpy as np\n",
    "\n",
    "arr = np.arange(100)\n",
    "mask = (arr % 3 == 0) & (arr % 5 == 0)\n",
    "print(arr[mask])"
   ]
  }
 ],
 "metadata": {
  "kernelspec": {
   "display_name": "Python 3",
   "language": "python",
   "name": "python3"
  },
  "language_info": {
   "codemirror_mode": {
    "name": "ipython",
    "version": 3
   },
   "file_extension": ".py",
   "mimetype": "text/x-python",
   "name": "python",
   "nbconvert_exporter": "python",
   "pygments_lexer": "ipython3",
   "version": "3.13.3"
  }
 },
 "nbformat": 4,
 "nbformat_minor": 5
}
