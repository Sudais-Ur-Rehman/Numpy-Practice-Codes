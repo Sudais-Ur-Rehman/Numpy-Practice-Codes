{
 "cells": [
  {
   "cell_type": "markdown",
   "id": "6457f008",
   "metadata": {},
   "source": [
    "Count how many times each value occurs in an array."
   ]
  },
  {
   "cell_type": "code",
   "execution_count": 4,
   "id": "599024d5",
   "metadata": {},
   "outputs": [
    {
     "name": "stdout",
     "output_type": "stream",
     "text": [
      "[2 3 4]\n",
      "[3 3 1]\n"
     ]
    }
   ],
   "source": [
    "import numpy as np\n",
    "\n",
    "arr = np.array([2, 3, 2, 4, 3, 3, 2])\n",
    "values , counts = np.unique(arr, return_counts=True)\n",
    "print(values)\n",
    "print(counts)\n"
   ]
  }
 ],
 "metadata": {
  "kernelspec": {
   "display_name": "Python 3",
   "language": "python",
   "name": "python3"
  },
  "language_info": {
   "codemirror_mode": {
    "name": "ipython",
    "version": 3
   },
   "file_extension": ".py",
   "mimetype": "text/x-python",
   "name": "python",
   "nbconvert_exporter": "python",
   "pygments_lexer": "ipython3",
   "version": "3.13.3"
  }
 },
 "nbformat": 4,
 "nbformat_minor": 5
}
