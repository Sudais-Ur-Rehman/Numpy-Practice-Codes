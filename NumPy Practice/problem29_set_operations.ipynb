{
 "cells": [
  {
   "cell_type": "markdown",
   "id": "9c3c2f5e",
   "metadata": {},
   "source": [
    "Perform union, intersection, and difference on two arrays."
   ]
  },
  {
   "cell_type": "code",
   "execution_count": 16,
   "id": "52f09bfb",
   "metadata": {},
   "outputs": [
    {
     "name": "stdout",
     "output_type": "stream",
     "text": [
      "array one\n",
      "\n",
      "[1 2 3 4 3 5]\n",
      "\n",
      "array two\n",
      "\n",
      "[3 7 2 6 2 1]\n",
      "\n",
      "Union\n",
      "\n",
      "[1 2 3 4 5 6 7]\n",
      "\n",
      "Intersection\n",
      "\n",
      "[1 2 3]\n",
      "\n",
      "Difference\n",
      "\n",
      "[4 5]\n"
     ]
    }
   ],
   "source": [
    "import numpy as np\n",
    "\n",
    "# array 1 \n",
    "arr_1 = np.array([[1,2,3],\n",
    "                 [4,3,5]])\n",
    "\n",
    "# array 2\n",
    "arr_2 = np.array([[3,7,2],\n",
    "                 [6,2,1]])\n",
    "\n",
    "flat_1 = arr_1.flatten()\n",
    "flat_2 = arr_2.flatten()\n",
    "\n",
    "print(\"array one\\n\")\n",
    "print(flat_1)\n",
    "print(\"\\narray two\\n\")\n",
    "print(flat_2)\n",
    "# union\n",
    "\n",
    "union_arr = np.union1d(flat_1,flat_2)\n",
    "print(\"\\nUnion\\n\")\n",
    "print(union_arr)\n",
    "\n",
    "# intersection\n",
    "\n",
    "intersection_arr = np.intersect1d(flat_1,flat_2)\n",
    "print(\"\\nIntersection\\n\")\n",
    "print(intersection_arr)\n",
    "\n",
    "# difference\n",
    "\n",
    "difference_arr = np.setdiff1d(flat_1,flat_2)\n",
    "print(\"\\nDifference\\n\")\n",
    "print(difference_arr)"
   ]
  }
 ],
 "metadata": {
  "kernelspec": {
   "display_name": "Python 3",
   "language": "python",
   "name": "python3"
  },
  "language_info": {
   "codemirror_mode": {
    "name": "ipython",
    "version": 3
   },
   "file_extension": ".py",
   "mimetype": "text/x-python",
   "name": "python",
   "nbconvert_exporter": "python",
   "pygments_lexer": "ipython3",
   "version": "3.13.3"
  }
 },
 "nbformat": 4,
 "nbformat_minor": 5
}
