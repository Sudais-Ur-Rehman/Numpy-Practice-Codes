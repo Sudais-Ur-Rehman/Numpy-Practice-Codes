{
 "cells": [
  {
   "cell_type": "markdown",
   "id": "6145bde4",
   "metadata": {},
   "source": [
    "Find the mode (most frequent value) in a NumPy array."
   ]
  },
  {
   "cell_type": "code",
   "execution_count": 1,
   "id": "ebfb3afe",
   "metadata": {},
   "outputs": [
    {
     "name": "stdout",
     "output_type": "stream",
     "text": [
      "Array: [2 3 5 2 3 2]\n",
      "Mode: 2\n"
     ]
    }
   ],
   "source": [
    "import numpy as np\n",
    "\n",
    "# Example array\n",
    "arr = np.array([2, 3, 5, 2, 3, 2])\n",
    "\n",
    "# Find unique values and their counts\n",
    "values, counts = np.unique(arr, return_counts=True)\n",
    "\n",
    "# Find the index of the max count\n",
    "max_count_index = np.argmax(counts)\n",
    "\n",
    "# Get the mode\n",
    "mode = values[max_count_index]\n",
    "\n",
    "print(\"Array:\", arr)\n",
    "print(\"Mode:\", mode)"
   ]
  }
 ],
 "metadata": {
  "kernelspec": {
   "display_name": "Python 3",
   "language": "python",
   "name": "python3"
  },
  "language_info": {
   "codemirror_mode": {
    "name": "ipython",
    "version": 3
   },
   "file_extension": ".py",
   "mimetype": "text/x-python",
   "name": "python",
   "nbconvert_exporter": "python",
   "pygments_lexer": "ipython3",
   "version": "3.13.3"
  }
 },
 "nbformat": 4,
 "nbformat_minor": 5
}
