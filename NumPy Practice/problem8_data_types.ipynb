{
 "cells": [
  {
   "cell_type": "markdown",
   "id": "f34b43d9",
   "metadata": {},
   "source": [
    "Create an array of floats and convert it to integers"
   ]
  },
  {
   "cell_type": "code",
   "execution_count": 14,
   "id": "9f0960c1",
   "metadata": {},
   "outputs": [
    {
     "name": "stdout",
     "output_type": "stream",
     "text": [
      "[[0 0 0]\n",
      " [0 0 0]\n",
      " [0 0 0]]\n"
     ]
    }
   ],
   "source": [
    "import numpy as np\n",
    "\n",
    "float_arr = np.random.rand(3,3) \n",
    "int_arr = float_arr.astype(int)\n",
    "print(int_arr)"
   ]
  },
  {
   "cell_type": "markdown",
   "id": "91f27d96",
   "metadata": {},
   "source": [
    "Create a 4×4 array with random floats between 5 and 10, and convert all values to integers."
   ]
  },
  {
   "cell_type": "code",
   "execution_count": 21,
   "id": "06ecb55d",
   "metadata": {},
   "outputs": [
    {
     "name": "stdout",
     "output_type": "stream",
     "text": [
      "[[9 6 6 9]\n",
      " [9 9 6 8]\n",
      " [7 8 9 5]\n",
      " [8 6 7 7]]\n"
     ]
    }
   ],
   "source": [
    "rand_floats = np.random.rand(4, 4)\n",
    "scaled_floats = rand_floats * 5 + 5\n",
    "int_array = scaled_floats.astype(int)\n",
    "print(int_array)\n"
   ]
  },
  {
   "cell_type": "markdown",
   "id": "8ef632c9",
   "metadata": {},
   "source": [
    "Create a 1D array of 6 random float values between 0 and 1, then round each value to 2 decimal places."
   ]
  },
  {
   "cell_type": "code",
   "execution_count": 26,
   "id": "ac2545b8",
   "metadata": {},
   "outputs": [
    {
     "name": "stdout",
     "output_type": "stream",
     "text": [
      "[[0.43 0.48]\n",
      " [0.4  0.68]]\n"
     ]
    }
   ],
   "source": [
    "arr_1D = np.random.rand(2, 2)\n",
    "rounded_arr = np.round(arr_1D, 2)\n",
    "print(rounded_arr)"
   ]
  }
 ],
 "metadata": {
  "kernelspec": {
   "display_name": "Python 3",
   "language": "python",
   "name": "python3"
  },
  "language_info": {
   "codemirror_mode": {
    "name": "ipython",
    "version": 3
   },
   "file_extension": ".py",
   "mimetype": "text/x-python",
   "name": "python",
   "nbconvert_exporter": "python",
   "pygments_lexer": "ipython3",
   "version": "3.13.3"
  }
 },
 "nbformat": 4,
 "nbformat_minor": 5
}
