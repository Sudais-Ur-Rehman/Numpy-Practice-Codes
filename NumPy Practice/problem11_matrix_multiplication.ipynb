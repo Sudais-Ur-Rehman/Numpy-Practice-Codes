{
 "cells": [
  {
   "cell_type": "markdown",
   "id": "855a256f",
   "metadata": {},
   "source": [
    "Multiply two 3x3 matrices."
   ]
  },
  {
   "cell_type": "code",
   "execution_count": null,
   "id": "92574716",
   "metadata": {},
   "outputs": [
    {
     "data": {
      "text/plain": [
       "array([[36, 45, 54],\n",
       "       [48, 60, 72],\n",
       "       [60, 75, 90]])"
      ]
     },
     "execution_count": 15,
     "metadata": {},
     "output_type": "execute_result"
    }
   ],
   "source": [
    "import numpy as np\n",
    "arr_1 = np.array([[3,3,3], [4,4,4] ,[5,5,5]])\n",
    "arr_2 = np.array([[1,2,3,],[4,5,6],[7,8,9]])\n",
    "result = np.dot(arr_1 , arr_2)\n",
    "print(result)"
   ]
  }
 ],
 "metadata": {
  "kernelspec": {
   "display_name": "Python 3",
   "language": "python",
   "name": "python3"
  },
  "language_info": {
   "codemirror_mode": {
    "name": "ipython",
    "version": 3
   },
   "file_extension": ".py",
   "mimetype": "text/x-python",
   "name": "python",
   "nbconvert_exporter": "python",
   "pygments_lexer": "ipython3",
   "version": "3.13.3"
  }
 },
 "nbformat": 4,
 "nbformat_minor": 5
}
