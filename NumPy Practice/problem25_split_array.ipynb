{
 "cells": [
  {
   "cell_type": "markdown",
   "id": "56cbe0d3",
   "metadata": {},
   "source": [
    "Split a 1D array of size 12 into 3 equal parts."
   ]
  },
  {
   "cell_type": "code",
   "execution_count": 8,
   "id": "befdb68f",
   "metadata": {},
   "outputs": [
    {
     "name": "stdout",
     "output_type": "stream",
     "text": [
      "[0 1 2 3]\n",
      "[4 5 6 7]\n",
      "[ 8  9 10 11]\n"
     ]
    }
   ],
   "source": [
    "import numpy as np\n",
    "\n",
    "arr_1D = np.arange(12)\n",
    "split_arrays = np.split(arr_1D, 3)\n",
    "\n",
    "for part in split_arrays:\n",
    "    print(part)\n"
   ]
  }
 ],
 "metadata": {
  "kernelspec": {
   "display_name": "Python 3",
   "language": "python",
   "name": "python3"
  },
  "language_info": {
   "codemirror_mode": {
    "name": "ipython",
    "version": 3
   },
   "file_extension": ".py",
   "mimetype": "text/x-python",
   "name": "python",
   "nbconvert_exporter": "python",
   "pygments_lexer": "ipython3",
   "version": "3.13.3"
  }
 },
 "nbformat": 4,
 "nbformat_minor": 5
}
