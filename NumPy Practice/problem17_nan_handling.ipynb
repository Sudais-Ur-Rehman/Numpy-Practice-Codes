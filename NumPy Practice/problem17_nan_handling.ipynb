{
 "cells": [
  {
   "cell_type": "markdown",
   "id": "b6d1dad1",
   "metadata": {},
   "source": [
    "Create an array with NaNs and replace NaNs with 0."
   ]
  },
  {
   "cell_type": "code",
   "execution_count": 25,
   "id": "c0171efe",
   "metadata": {},
   "outputs": [
    {
     "name": "stdout",
     "output_type": "stream",
     "text": [
      "[1. 0. 0. 2. 2. 0.]\n"
     ]
    }
   ],
   "source": [
    "import numpy as np \n",
    "\n",
    "arr = np.array([1 , np.nan , np.nan, 2, 2.0 , np.nan])\n",
    "arr[np.isnan(arr)] = 0\n",
    "print(arr)"
   ]
  }
 ],
 "metadata": {
  "kernelspec": {
   "display_name": "Python 3",
   "language": "python",
   "name": "python3"
  },
  "language_info": {
   "codemirror_mode": {
    "name": "ipython",
    "version": 3
   },
   "file_extension": ".py",
   "mimetype": "text/x-python",
   "name": "python",
   "nbconvert_exporter": "python",
   "pygments_lexer": "ipython3",
   "version": "3.13.3"
  }
 },
 "nbformat": 4,
 "nbformat_minor": 5
}
