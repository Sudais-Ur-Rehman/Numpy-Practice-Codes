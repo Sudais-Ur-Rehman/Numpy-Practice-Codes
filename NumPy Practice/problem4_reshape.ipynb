{
 "cells": [
  {
   "cell_type": "markdown",
   "id": "d825ba44",
   "metadata": {},
   "source": [
    "Create a 1D array of 9 elements and reshape it to 3x3."
   ]
  },
  {
   "cell_type": "code",
   "execution_count": 2,
   "id": "2bb7f39f",
   "metadata": {},
   "outputs": [
    {
     "name": "stdout",
     "output_type": "stream",
     "text": [
      "[[0 1 2]\n",
      " [3 4 5]\n",
      " [6 7 8]]\n"
     ]
    }
   ],
   "source": [
    "import numpy as np\n",
    "\n",
    "arr_1D = np.arange(9)\n",
    "reshaped = arr_1D.reshape(3,3)\n",
    "print(reshaped)"
   ]
  }
 ],
 "metadata": {
  "kernelspec": {
   "display_name": "Python 3",
   "language": "python",
   "name": "python3"
  },
  "language_info": {
   "codemirror_mode": {
    "name": "ipython",
    "version": 3
   },
   "file_extension": ".py",
   "mimetype": "text/x-python",
   "name": "python",
   "nbconvert_exporter": "python",
   "pygments_lexer": "ipython3",
   "version": "3.13.3"
  }
 },
 "nbformat": 4,
 "nbformat_minor": 5
}
