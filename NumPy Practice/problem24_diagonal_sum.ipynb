{
 "cells": [
  {
   "cell_type": "markdown",
   "id": "e822df6c",
   "metadata": {},
   "source": [
    "Find the sum of the main diagonal of a 4x4 matrix."
   ]
  },
  {
   "cell_type": "code",
   "execution_count": null,
   "id": "ce26f450",
   "metadata": {},
   "outputs": [
    {
     "name": "stdout",
     "output_type": "stream",
     "text": [
      "[[ 1  2  3  4]\n",
      " [ 5  6  7  8]\n",
      " [ 9 10 11 12]\n",
      " [13 14 15 16]]\n",
      "the sum of matrix digonal:[ 1  6 11 16] = 34\n"
     ]
    }
   ],
   "source": [
    "import numpy as np\n",
    "\n",
    "arr = np.array([[1,2,3,4],\n",
    "                [5,6,7,8],\n",
    "                [9,10,11,12],\n",
    "                [13,14,15,16]])\n",
    "print(arr)\n",
    "matrix_digonal =arr.diagonal()\n",
    "sum_of_digonal = matrix_digonal.sum()\n",
    "print(f\"the sum of matrix digonal: {matrix_digonal} = {sum_of_digonal}\")"
   ]
  }
 ],
 "metadata": {
  "kernelspec": {
   "display_name": "Python 3",
   "language": "python",
   "name": "python3"
  },
  "language_info": {
   "codemirror_mode": {
    "name": "ipython",
    "version": 3
   },
   "file_extension": ".py",
   "mimetype": "text/x-python",
   "name": "python",
   "nbconvert_exporter": "python",
   "pygments_lexer": "ipython3",
   "version": "3.13.3"
  }
 },
 "nbformat": 4,
 "nbformat_minor": 5
}
