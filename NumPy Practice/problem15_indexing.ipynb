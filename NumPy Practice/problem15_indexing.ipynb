{
 "cells": [
  {
   "cell_type": "markdown",
   "id": "55784fe3",
   "metadata": {},
   "source": [
    "Get all elements greater than 10 from a given array."
   ]
  },
  {
   "cell_type": "code",
   "execution_count": 1,
   "id": "5238e992",
   "metadata": {},
   "outputs": [
    {
     "name": "stdout",
     "output_type": "stream",
     "text": [
      "[11 12 13 14 15 16 17 18 19]\n"
     ]
    }
   ],
   "source": [
    "import numpy as np\n",
    "\n",
    "arr_1 = np.arange(20)\n",
    "mask = arr_1 > 10\n",
    "print(arr_1[mask])"
   ]
  },
  {
   "cell_type": "markdown",
   "id": "338e00b2",
   "metadata": {},
   "source": [
    "From the array below, get all values that are greater than 5 and even."
   ]
  },
  {
   "cell_type": "code",
   "execution_count": 21,
   "id": "402a76e4",
   "metadata": {},
   "outputs": [
    {
     "name": "stdout",
     "output_type": "stream",
     "text": [
      "[0 2 4 6 8]\n"
     ]
    }
   ],
   "source": [
    "import numpy as np\n",
    "\n",
    "arr_1 = np.arange(20)\n",
    "mask_1 = (arr_1 < 10) & (arr_1 % 2 ==0)\n",
    "print(arr_1[mask_1])"
   ]
  }
 ],
 "metadata": {
  "kernelspec": {
   "display_name": "Python 3",
   "language": "python",
   "name": "python3"
  },
  "language_info": {
   "codemirror_mode": {
    "name": "ipython",
    "version": 3
   },
   "file_extension": ".py",
   "mimetype": "text/x-python",
   "name": "python",
   "nbconvert_exporter": "python",
   "pygments_lexer": "ipython3",
   "version": "3.13.3"
  }
 },
 "nbformat": 4,
 "nbformat_minor": 5
}
