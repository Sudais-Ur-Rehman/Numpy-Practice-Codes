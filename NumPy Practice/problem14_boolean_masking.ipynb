{
 "cells": [
  {
   "cell_type": "markdown",
   "id": "15acec19",
   "metadata": {},
   "source": [
    "Create a mask for values > 5 in an array."
   ]
  },
  {
   "cell_type": "code",
   "execution_count": 2,
   "id": "adb74448",
   "metadata": {},
   "outputs": [
    {
     "name": "stdout",
     "output_type": "stream",
     "text": [
      "[6 7 8 9]\n"
     ]
    }
   ],
   "source": [
    "import numpy as np\n",
    "\n",
    "arr_1 = np.arange(10)\n",
    "mask = arr_1 > 5\n",
    "print(arr_1[mask])"
   ]
  }
 ],
 "metadata": {
  "kernelspec": {
   "display_name": "Python 3",
   "language": "python",
   "name": "python3"
  },
  "language_info": {
   "codemirror_mode": {
    "name": "ipython",
    "version": 3
   },
   "file_extension": ".py",
   "mimetype": "text/x-python",
   "name": "python",
   "nbconvert_exporter": "python",
   "pygments_lexer": "ipython3",
   "version": "3.13.3"
  }
 },
 "nbformat": 4,
 "nbformat_minor": 5
}
