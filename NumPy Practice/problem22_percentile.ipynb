{
 "cells": [
  {
   "cell_type": "markdown",
   "id": "bf9234e1",
   "metadata": {},
   "source": [
    "Calculate 25th, 50th, and 75th percentiles of an array."
   ]
  },
  {
   "cell_type": "code",
   "execution_count": 1,
   "id": "00a04516",
   "metadata": {},
   "outputs": [
    {
     "name": "stdout",
     "output_type": "stream",
     "text": [
      "25th Percentile: 25.0\n",
      "50th Percentile (Median): 40.0\n",
      "75th Percentile: 55.0\n"
     ]
    }
   ],
   "source": [
    "import numpy as np\n",
    "\n",
    "arr = np.array([10, 20, 30, 40, 50, 60, 70])\n",
    "\n",
    "p25 = np.percentile(arr, 25)\n",
    "p50 = np.percentile(arr, 50)\n",
    "p75 = np.percentile(arr, 75)\n",
    "\n",
    "print(\"25th Percentile:\", p25)\n",
    "print(\"50th Percentile (Median):\", p50)\n",
    "print(\"75th Percentile:\", p75)"
   ]
  }
 ],
 "metadata": {
  "kernelspec": {
   "display_name": "Python 3",
   "language": "python",
   "name": "python3"
  },
  "language_info": {
   "codemirror_mode": {
    "name": "ipython",
    "version": 3
   },
   "file_extension": ".py",
   "mimetype": "text/x-python",
   "name": "python",
   "nbconvert_exporter": "python",
   "pygments_lexer": "ipython3",
   "version": "3.13.3"
  }
 },
 "nbformat": 4,
 "nbformat_minor": 5
}
