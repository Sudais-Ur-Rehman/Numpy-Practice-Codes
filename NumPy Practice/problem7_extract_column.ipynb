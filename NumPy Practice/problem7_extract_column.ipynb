{
 "cells": [
  {
   "cell_type": "markdown",
   "id": "dadd5104",
   "metadata": {},
   "source": [
    "Create a 3x3 array and extract the second column."
   ]
  },
  {
   "cell_type": "code",
   "execution_count": null,
   "id": "9657aa56",
   "metadata": {},
   "outputs": [
    {
     "name": "stdout",
     "output_type": "stream",
     "text": [
      "[[0.7553141  0.59188219 0.59832876]\n",
      " [0.65633954 0.39082127 0.65624547]\n",
      " [0.81124306 0.10686732 0.84716424]]\n",
      "Second Column \n",
      " [0.59188219 0.39082127 0.10686732]\n"
     ]
    }
   ],
   "source": [
    "import numpy as np\n",
    "\n",
    "arr = np.random.rand(3,3)\n",
    "# print(arr)\n",
    "print(\"Second Column \\n\" ,arr[:,1])"
   ]
  }
 ],
 "metadata": {
  "kernelspec": {
   "display_name": "Python 3",
   "language": "python",
   "name": "python3"
  },
  "language_info": {
   "codemirror_mode": {
    "name": "ipython",
    "version": 3
   },
   "file_extension": ".py",
   "mimetype": "text/x-python",
   "name": "python",
   "nbconvert_exporter": "python",
   "pygments_lexer": "ipython3",
   "version": "3.13.3"
  }
 },
 "nbformat": 4,
 "nbformat_minor": 5
}
