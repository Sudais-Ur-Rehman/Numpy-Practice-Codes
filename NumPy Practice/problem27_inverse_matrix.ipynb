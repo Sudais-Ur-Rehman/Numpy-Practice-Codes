{
 "cells": [
  {
   "cell_type": "markdown",
   "id": "04820bab",
   "metadata": {},
   "source": [
    "Find the inverse of a 3x3 matrix."
   ]
  },
  {
   "cell_type": "code",
   "execution_count": 15,
   "id": "24a16d2b",
   "metadata": {},
   "outputs": [
    {
     "name": "stdout",
     "output_type": "stream",
     "text": [
      "Orginal Matrix\n",
      "\n",
      "[[0.31637846 0.22237307 0.49437346]\n",
      " [0.30711198 0.57079148 0.73948382]\n",
      " [0.79625709 0.37049299 0.47726292]]\n",
      "\n",
      "Inverse Matrix\n",
      "\n",
      "[[ 0.02204268 -1.091274    1.6680159 ]\n",
      " [-6.26512204  3.43756263  1.16348476]\n",
      " [ 4.82675705 -0.84787271 -1.59080542]]\n"
     ]
    }
   ],
   "source": [
    "import numpy as np\n",
    "\n",
    "matrix = np.random.rand(3,3)\n",
    "inverse_matrix = np.linalg.inv(matrix)\n",
    "\n",
    "print(\"Orginal Matrix\\n\")\n",
    "print(matrix)\n",
    "print(\"\\nInverse Matrix\\n\")\n",
    "print(inverse_matrix)"
   ]
  }
 ],
 "metadata": {
  "kernelspec": {
   "display_name": "Python 3",
   "language": "python",
   "name": "python3"
  },
  "language_info": {
   "codemirror_mode": {
    "name": "ipython",
    "version": 3
   },
   "file_extension": ".py",
   "mimetype": "text/x-python",
   "name": "python",
   "nbconvert_exporter": "python",
   "pygments_lexer": "ipython3",
   "version": "3.13.3"
  }
 },
 "nbformat": 4,
 "nbformat_minor": 5
}
