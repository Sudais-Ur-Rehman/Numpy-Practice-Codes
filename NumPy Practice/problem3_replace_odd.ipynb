{
 "cells": [
  {
   "cell_type": "markdown",
   "id": "0e91aefb",
   "metadata": {},
   "source": [
    "Replace all odd numbers in an array with -1."
   ]
  },
  {
   "cell_type": "code",
   "execution_count": 21,
   "id": "a063107a",
   "metadata": {},
   "outputs": [
    {
     "name": "stdout",
     "output_type": "stream",
     "text": [
      "[ 2 -1  4 -1  6 -1  8 -1]\n"
     ]
    }
   ],
   "source": [
    "import numpy as np\n",
    "\n",
    "arr = np.arange(2,10)\n",
    "# odd_arr = arr[arr % 2 !=0] = -1 \n",
    "arr[arr % 2 !=0] =-1\n",
    "print(arr)\n"
   ]
  }
 ],
 "metadata": {
  "kernelspec": {
   "display_name": "Python 3",
   "language": "python",
   "name": "python3"
  },
  "language_info": {
   "codemirror_mode": {
    "name": "ipython",
    "version": 3
   },
   "file_extension": ".py",
   "mimetype": "text/x-python",
   "name": "python",
   "nbconvert_exporter": "python",
   "pygments_lexer": "ipython3",
   "version": "3.13.3"
  }
 },
 "nbformat": 4,
 "nbformat_minor": 5
}
