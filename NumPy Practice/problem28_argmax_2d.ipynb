{
 "cells": [
  {
   "cell_type": "markdown",
   "id": "f3edf6ec",
   "metadata": {},
   "source": [
    "Find the position of the maximum value in a 2D array."
   ]
  },
  {
   "cell_type": "code",
   "execution_count": 4,
   "metadata": {},
   "outputs": [
    {
     "name": "stdout",
     "output_type": "stream",
     "text": [
      "Array:\n",
      " [[0.53371377 0.20243709]\n",
      " [0.50854629 0.02558304]]\n",
      "Maximum Value: 0.5337137731173444\n",
      "Position of Maximum Value: (np.int64(0), np.int64(0))\n"
     ]
    }
   ],
   "source": [
    "import numpy as np\n",
    "\n",
    "# Create a random 2x2 array\n",
    "arr = np.random.rand(2, 2)\n",
    "\n",
    "# Find the flat index of the maximum value\n",
    "max_index = arr.argmax()\n",
    "\n",
    "# Convert flat index to (row, column)\n",
    "position = np.unravel_index(max_index, arr.shape)\n",
    "\n",
    "print(\"Array:\\n\", arr)\n",
    "print(\"Maximum Value:\", arr[position])\n",
    "print(\"Position of Maximum Value:\", position)\n"
   ]
  }
 ],
 "metadata": {
  "kernelspec": {
   "display_name": "Python 3",
   "language": "python",
   "name": "python3"
  },
  "language_info": {
   "codemirror_mode": {
    "name": "ipython",
    "version": 3
   },
   "file_extension": ".py",
   "mimetype": "text/x-python",
   "name": "python",
   "nbconvert_exporter": "python",
   "pygments_lexer": "ipython3",
   "version": "3.13.3"
  }
 },
 "nbformat": 4,
 "nbformat_minor": 5
}
