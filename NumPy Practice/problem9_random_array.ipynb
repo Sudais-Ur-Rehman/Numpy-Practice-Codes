{
 "cells": [
  {
   "cell_type": "markdown",
   "id": "ecb1f45d",
   "metadata": {},
   "source": [
    "Generate a 2x3 array of random floats between 0 and 1."
   ]
  },
  {
   "cell_type": "code",
   "execution_count": null,
   "id": "465ab1ef",
   "metadata": {},
   "outputs": [
    {
     "name": "stdout",
     "output_type": "stream",
     "text": [
      "[[0.59437901 0.27998154 0.26359645]\n",
      " [0.39323285 0.72320526 0.91456166]]\n"
     ]
    }
   ],
   "source": [
    "import numpy as np\n",
    "\n",
    "float_arr = np.random.rand(2,3)\n",
    "# round_arr = float_arr * 1\n",
    "# final_arr = round_arr.astype(float)\n",
    "print(float_arr)"
   ]
  }
 ],
 "metadata": {
  "kernelspec": {
   "display_name": "Python 3",
   "language": "python",
   "name": "python3"
  },
  "language_info": {
   "codemirror_mode": {
    "name": "ipython",
    "version": 3
   },
   "file_extension": ".py",
   "mimetype": "text/x-python",
   "name": "python",
   "nbconvert_exporter": "python",
   "pygments_lexer": "ipython3",
   "version": "3.13.3"
  }
 },
 "nbformat": 4,
 "nbformat_minor": 5
}
