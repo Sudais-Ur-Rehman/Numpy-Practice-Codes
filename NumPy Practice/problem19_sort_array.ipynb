{
 "cells": [
  {
   "cell_type": "markdown",
   "id": "ea6394f9",
   "metadata": {},
   "source": [
    "Sort a 2D array row-wise."
   ]
  },
  {
   "cell_type": "code",
   "execution_count": 5,
   "id": "bfa2bf35",
   "metadata": {},
   "outputs": [
    {
     "name": "stdout",
     "output_type": "stream",
     "text": [
      "Sorted 2D array by row:\n",
      " [[2 5 7]\n",
      " [1 5 9]]\n"
     ]
    }
   ],
   "source": [
    "import numpy as np \n",
    "\n",
    "arr_2D_unsorted = np.array([[5,2,7],[9,5,1]])\n",
    "print(\"Sorted 2D array by row:\\n\" , np.sort(arr_2D_unsorted , axis= 1))"
   ]
  },
  {
   "cell_type": "markdown",
   "id": "471821db",
   "metadata": {},
   "source": [
    "Sort a 2D array column-wise."
   ]
  },
  {
   "cell_type": "code",
   "execution_count": 8,
   "id": "2b3649de",
   "metadata": {},
   "outputs": [
    {
     "name": "stdout",
     "output_type": "stream",
     "text": [
      "Sorted 2D array by Column:\n",
      " [[4 8 3]\n",
      " [9 9 7]]\n"
     ]
    }
   ],
   "source": [
    "import numpy as np \n",
    "\n",
    "arr_2D_unsorted = np.array([[9,8,7],[4,9,3]])\n",
    "print(\"Sorted 2D array by Column:\\n\" , np.sort(arr_2D_unsorted , axis= 0))"
   ]
  },
  {
   "cell_type": "markdown",
   "id": "ee63c3a8",
   "metadata": {},
   "source": [
    "Sort a N-D array both row-wise and column-wise."
   ]
  },
  {
   "cell_type": "code",
   "execution_count": 9,
   "id": "5d362a7e",
   "metadata": {},
   "outputs": [
    {
     "name": "stdout",
     "output_type": "stream",
     "text": [
      "Original array:\n",
      " [[9 2 7]\n",
      " [6 5 1]\n",
      " [3 8 4]]\n",
      "\n",
      "Row-wise sorted:\n",
      " [[2 7 9]\n",
      " [1 5 6]\n",
      " [3 4 8]]\n",
      "\n",
      "Row-wise then Column-wise sorted:\n",
      " [[1 4 6]\n",
      " [2 5 8]\n",
      " [3 7 9]]\n"
     ]
    }
   ],
   "source": [
    "import numpy as np\n",
    "\n",
    "# Original unsorted 2D array\n",
    "arr = np.array([[9, 2, 7],\n",
    "                [6, 5, 1],\n",
    "                [3, 8, 4]])\n",
    "\n",
    "# Step 1: Row-wise sort (sort each row)\n",
    "row_sorted = np.sort(arr, axis=1)\n",
    "\n",
    "# Step 2: Column-wise sort (sort each column of the row-sorted array)\n",
    "fully_sorted = np.sort(row_sorted, axis=0)\n",
    "\n",
    "print(\"Original array:\\n\", arr)\n",
    "print(\"\\nRow-wise sorted:\\n\", row_sorted)\n",
    "print(\"\\nRow-wise then Column-wise sorted:\\n\", fully_sorted)\n"
   ]
  }
 ],
 "metadata": {
  "kernelspec": {
   "display_name": "Python 3",
   "language": "python",
   "name": "python3"
  },
  "language_info": {
   "codemirror_mode": {
    "name": "ipython",
    "version": 3
   },
   "file_extension": ".py",
   "mimetype": "text/x-python",
   "name": "python",
   "nbconvert_exporter": "python",
   "pygments_lexer": "ipython3",
   "version": "3.13.3"
  }
 },
 "nbformat": 4,
 "nbformat_minor": 5
}
