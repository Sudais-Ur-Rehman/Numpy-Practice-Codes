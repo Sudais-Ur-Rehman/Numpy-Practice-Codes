{
 "cells": [
  {
   "cell_type": "markdown",
   "id": "08793dc4",
   "metadata": {},
   "source": [
    "Clip all values in an array between 10 and 50."
   ]
  },
  {
   "cell_type": "code",
   "execution_count": 4,
   "id": "e6df6743",
   "metadata": {},
   "outputs": [
    {
     "name": "stdout",
     "output_type": "stream",
     "text": [
      "[10 10 10 10 10 10 10 10 10 10 10 11 12 13 14 15 16 17 18 19 20 21 22 23\n",
      " 24 25 26 27 28 29 30 31 32 33 34 35 36 37 38 39 40 41 42 43 44 45 46 47\n",
      " 48 49 50 50 50 50 50 50 50 50 50 50 50 50 50 50 50 50 50 50 50 50 50 50\n",
      " 50 50 50 50 50 50 50 50 50 50 50 50 50 50 50 50 50 50 50 50 50 50 50 50\n",
      " 50 50 50 50]\n"
     ]
    }
   ],
   "source": [
    "import numpy as np\n",
    "\n",
    "arr = np.arange(100)\n",
    "clipped_arr = np.clip(arr , a_min= 10 , a_max= 50)\n",
    "print(clipped_arr)"
   ]
  },
  {
   "cell_type": "markdown",
   "id": "66a79207",
   "metadata": {},
   "source": [
    "Clipping with negative values"
   ]
  },
  {
   "cell_type": "code",
   "execution_count": 5,
   "id": "94b65cf9",
   "metadata": {},
   "outputs": [
    {
     "name": "stdout",
     "output_type": "stream",
     "text": [
      "[-5 -5  0 10 20 25]\n"
     ]
    }
   ],
   "source": [
    "arr_1 = np.array([-30, -10, 0, 10, 20, 60])\n",
    "clipped_arr_1 = np.clip(arr_1 , a_min= -5 , a_max= 25)\n",
    "print(clipped_arr_1)"
   ]
  }
 ],
 "metadata": {
  "kernelspec": {
   "display_name": "Python 3",
   "language": "python",
   "name": "python3"
  },
  "language_info": {
   "codemirror_mode": {
    "name": "ipython",
    "version": 3
   },
   "file_extension": ".py",
   "mimetype": "text/x-python",
   "name": "python",
   "nbconvert_exporter": "python",
   "pygments_lexer": "ipython3",
   "version": "3.13.3"
  }
 },
 "nbformat": 4,
 "nbformat_minor": 5
}
